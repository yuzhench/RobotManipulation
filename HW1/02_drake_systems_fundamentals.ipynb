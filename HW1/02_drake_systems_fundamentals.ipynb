{
 "cells": [
  {
   "cell_type": "markdown",
   "metadata": {
    "cell_id": "ef9afa6882054b2e9d91626156ca4051",
    "deepnote_cell_type": "markdown",
    "vscode": {
     "languageId": "raw"
    }
   },
   "source": [
    "# Drake Systems Fundamentals\n",
    "\n",
    "**Learning Objectives:**\n",
    "1. Implement a custom `LeafSystem` from scratch\n",
    "2. Understand Drake's block diagram systems framework\n",
    "3. Build and wire block diagrams yourself\n",
    "4. Write simulation code\n",
    "5. Use Drake documentation and tutorials effectively\n",
    "\n",
    "**What you'll implement:** You'll implement an inverted pendulum system from scratch, and simulate it using Drake's built-in simulation tools.\n",
    "\n",
    "---\n"
   ]
  },
  {
   "cell_type": "markdown",
   "metadata": {
    "cell_id": "5f23ff1b4ab24c36a5f8e1441bac6afe",
    "deepnote_cell_type": "markdown",
    "vscode": {
     "languageId": "raw"
    }
   },
   "source": [
    "## Setup and Imports\n",
    "\n",
    "Let us first import Drake functionality. We will cover them as we go along, so don't worry about them for now. "
   ]
  },
  {
   "cell_type": "code",
   "execution_count": 1,
   "metadata": {
    "cell_id": "09d3a5b17bf140d28ff22aa6086aa0b4",
    "deepnote_cell_type": "code",
    "execution_context_id": "2418ea03-1cb4-42ce-85c9-401c96102c33",
    "execution_millis": 1756,
    "execution_start": 1757448997716,
    "source_hash": "c249f8ed"
   },
   "outputs": [],
   "source": [
    "import matplotlib.pyplot as plt\n",
    "import numpy as np\n",
    "from pydrake.all import (\n",
    "    BasicVector,\n",
    "    ConstantVectorSource,\n",
    "    Context,\n",
    "    ContinuousState,\n",
    "    Diagram,\n",
    "    DiagramBuilder,\n",
    "    LeafSystem,\n",
    "    LogVectorOutput,\n",
    "    Simulator,\n",
    ")\n",
    "from pydrake.systems.drawing import plot_system_graphviz\n",
    "\n",
    "from manipulation.exercises.grader import Grader\n",
    "from manipulation.exercises.intro.test_intro_fundamentals import (\n",
    "    TestIntroFundamentalsPendulumImplementation,\n",
    "    TestIntroFundamentalsSimulationExercises,\n",
    ")"
   ]
  },
  {
   "cell_type": "markdown",
   "metadata": {
    "cell_id": "a76978f58e554ce69ec0703e8bb775c1",
    "deepnote_cell_type": "markdown",
    "vscode": {
     "languageId": "raw"
    }
   },
   "source": [
    "---\n",
    "\n",
    "## Part 1: Writing Your Own Dynamics\n",
    "\n",
    "Drake models complex systems as **block diagrams** composed of simple building blocks. Each block is a `System` that:\n",
    "- Has **input ports** (receives signals)\n",
    "- Has **output ports** (sends signals) \n",
    "- Maintains internal **state**\n",
    "- Defines **dynamics** (how state evolves over time)\n",
    "\n",
    "A `System` can be just a simple, single system, or it can be a collection of multiple smaller subsystems, for instance connected together in a `Diagram` (which we will learn more about in a second). For now, we will look only at a single custom system, which you will usually implement by inheriting from the Drake class `LeafSystem`. In this part of the notebook, you will implement your own simple physical system (an inverted pendulum) using `LeafSystem`. Later in the class and for the project you might find yourself inheriting from `LeafSystem` when you are writing custom controllers, estimators, sensors, etc!\n",
    "\n",
    "Below you can see an example of a `Diagram` consisting of smaller subsystems: an inverted pendulum with a constant input source, which outputs to a logging system. In fact, this is the `Diagram` we will be building from scratch in this notebook!\n",
    "\n",
    "<img src=\"https://raw.githubusercontent.com/RussTedrake/manipulation/refs/heads/master/book/figures/simple_inverted_pendulum_diagram.svg\" width=\"1000\">"
   ]
  },
  {
   "cell_type": "markdown",
   "metadata": {
    "cell_id": "60e1907dbd18433cb6f83563b456bc31",
    "deepnote_cell_type": "markdown"
   },
   "source": [
    "**References:** To implement the tasks in this notebook, you will be referencing the official Drake tutorials. You don't have to read everything in them right now, we provide hints in the code pointing you towards the relevant sections. The tutorials we will be referencing are:\n",
    "- [Dynamical Systems Tutorial](https://github.com/RobotLocomotion/drake/blob/master/tutorials/dynamical_systems.ipynb)\n",
    "- [Authoring Leaf Systmes](https://github.com/RobotLocomotion/drake/blob/7abd7dc1a95387490e2d5fa23fe938f57eddecfc/tutorials/authoring_leaf_systems.ipynb)\n",
    "\n",
    "If you are unsure about how to use a function, refer to the [Official Drake documentation](https://drake.mit.edu/pydrake/index.html). For example, the documentation for `DeclareVectorInputPort` and similar functions can be found [on this page](https://drake.mit.edu/pydrake/pydrake.systems.framework.html) which we found by searching for \"DeclareVectorInputPort) and then by cmd+F for \"DeclareVectorInputPort\". \n",
    "\n",
    "(**A note on the Drake documentation:** There are two sets of documentation for Drake: one for Python and [one for C++](https://drake.mit.edu/doxygen_cxx/index.html). The C++ and Python APIs for Drake are the same, but the C++ documentation is usually a bit more detailed and easier to navigate than the Python documentation, so most users of Drake tend to prefer the C++ documentation. So as you get more familiar with Drake, you might want to check out the C++ documentation instead!)\n",
    "\n",
    "**YOUR TASK:** Implement an inverted pendulum (with zero friction) as a custom `LeafSystem`\n",
    "Here are the system specifications you will need:\n",
    "- **State:** $x = [\\theta, \\dot{\\theta}]$ (angle and angular velocity)\n",
    "- **Input:** $u$ (torque applied at the base)  \n",
    "- **Dynamics:** $\\ddot{\\theta} = -\\frac{g}{l}\\sin(\\theta) + \\frac{u}{ml^2}$\n",
    "- **Output:** $y = \\theta$ (just the angle)"
   ]
  },
  {
   "cell_type": "code",
   "execution_count": null,
   "metadata": {
    "cell_id": "c5986d692e7e461ebf349ea8373d2d79",
    "deepnote_cell_type": "code"
   },
   "outputs": [],
   "source": [
    "# TODO: Implement your own InvertedPendulum class\n",
    "\n",
    "\n",
    "class InvertedPendulum(LeafSystem):\n",
    "    def __init__(\n",
    "        self, mass: float = 1.0, length: float = 1.0, gravity: float = 9.81\n",
    "    ) -> None:\n",
    "        # HINT: Look at the Dynamical Systems Tutorial,\n",
    "        #       section \"Deriving from LeafSystem\"\n",
    "        # TODO: Call the parent constructor\n",
    "        LeafSystem.__init__(self) \n",
    "\n",
    "        # TODO: Store the physical parameters as instance variables\n",
    "        self.mass = mass \n",
    "        self.length = length \n",
    "        self.gravity = gravity\n",
    "\n",
    "        # TODO: Declare continuous state for [theta, theta_dot]\n",
    "        #       (note that we won't need the state_index they use in the tutorial,\n",
    "        #        so you can disregard the return value)\n",
    "\n",
    "        self.DeclareContinuousState(2)\n",
    "        \n",
    "        # HINT: Look at the Authoring Leaf Systems Tutorial,\n",
    "        #       section \"Vector-valued Ports\"\n",
    "        # TODO: Declare input port for torque\n",
    "         # TODO: Save the input port as an instance variable so we can\n",
    "        #       access it in `DoCalcTimeDerivatives`\n",
    "        self._torque_input_port =  self.DeclareVectorInputPort(\"torque\", 1)\n",
    "\n",
    "\n",
    "        # TODO: Declare output port for **just** theta (not theta_dot)\n",
    "        self.DeclareVectorOutputPort(\"theta\", 1, self.OutputTheta)\n",
    " \n",
    "    def DoCalcTimeDerivatives(\n",
    "        self, context: Context, derivatives: ContinuousState\n",
    "    ) -> None:\n",
    "        # HINT: Look at the Dynamical Systems Tutorial,\n",
    "        #       section \"Deriving from LeafSystem\"\n",
    "        # TODO: Get current state from context (extract theta and theta_dot)\n",
    "        # HINT: Note that context.get_continuous_state_vector() returns a VectorBase\n",
    "        #       object, which you can index into to get the theta and theta_dot using\n",
    "        #       .GetAtIndex(), or simply context.get_continuous_state_vector()[index]\n",
    "        #       or simply context.get_continuous_state_vector()[index]\n",
    "\n",
    "        curr_theta = context.get_continuous_state_vector().GetAtIndex(0)\n",
    "        curr_theta_dot = context.get_continuous_state_vector().GetAtIndex(1)\n",
    "        # HINT: Look at the Authoring Leaf Systems Tutorial,\n",
    "        #       section \"Vector-valued Ports\"\n",
    "        # TODO: Get input torque by evaluating the input port\n",
    "\n",
    "        input_torque = self._torque_input_port.Eval(context)[0]\n",
    "\n",
    "        # HINT: Look at the Dynamical Systems Tutorial,\n",
    "        #       section \"Deriving from LeafSystem\"\n",
    "        # TODO: Compute pendulum dynamics\n",
    "        # TODO: Set the derivatives [theta_dot, theta_ddot]\n",
    "        theta_ddot = -1 * (self.gravity / self.length) * np.sin(curr_theta) + (input_torque / (self.mass * (self.length ** 2)))\n",
    "        derivatives.get_mutable_vector().SetAtIndex(0, curr_theta_dot)\n",
    "        derivatives.get_mutable_vector().SetAtIndex(1, theta_ddot)\n",
    "\n",
    "    def OutputTheta(self, context: Context, output: BasicVector) -> None:\n",
    "        # HINT: Look at the Authoring Leaf Systems Tutorial,\n",
    "        #       section \"Vector-valued Ports\"\n",
    "        # TODO: Get state from context, and extract theta (first element)\n",
    "        first_element = context.get_continuous_state_vector().GetAtIndex(0) \n",
    "        # TODO: Set the output port to theta\n",
    "        output.SetFromVector([first_element])\n",
    "\n",
    " "
   ]
  },
  {
   "cell_type": "markdown",
   "metadata": {
    "cell_id": "a931788c7f0d4af298aa236e1fa4c9ba",
    "deepnote_cell_type": "markdown"
   },
   "source": [
    "**When you are done, make sure to run the tests below to make sure everything is working as expected!**"
   ]
  },
  {
   "cell_type": "code",
   "execution_count": 15,
   "metadata": {
    "cell_id": "096c55a869194fbaa52978c42bff3b78",
    "deepnote_cell_type": "code",
    "execution_context_id": "e378a144-d93b-498b-8d5b-dea297a7d550",
    "execution_millis": 5,
    "execution_start": 1756174686265,
    "source_hash": "5d1b4f6e"
   },
   "outputs": [
    {
     "name": "stdout",
     "output_type": "stream",
     "text": [
      "Total score is 30/30.\n",
      "\n",
      "Score for test_inverted_pendulum_structure (manipulation.exercises.intro.test_intro_fundamentals.TestIntroFundamentalsPendulumImplementation) is 10/10.\n",
      "\n",
      "Score for test_pendulum_dynamics (manipulation.exercises.intro.test_intro_fundamentals.TestIntroFundamentalsPendulumImplementation) is 10/10.\n",
      "\n",
      "Score for Test pendulum output computation is 10/10.\n"
     ]
    }
   ],
   "source": [
    "Grader.grade_output(\n",
    "    [TestIntroFundamentalsPendulumImplementation], [locals()], \"results.json\"\n",
    ")\n",
    "Grader.print_test_results(\"results.json\")"
   ]
  },
  {
   "cell_type": "markdown",
   "metadata": {
    "cell_id": "7641b32ad07c4489b749e2c13011b72b",
    "deepnote_cell_type": "markdown"
   },
   "source": [
    "### System `Context`\n",
    "In the code above, you probably noticed the use of something called the `context`. In Drake, the `context` contains all the dynamical information about your simulation and all the systems in it.\n",
    "\n",
    "Please read the following tutorial section before proceeding:\n",
    "- [Dynamical Systems Tutorial](https://github.com/RobotLocomotion/drake/blob/master/tutorials/dynamical_systems.ipynb): **The System \"Context\"**\n",
    "\n",
    "Next, let us create a default context for our Pendulum, change it a bit, and have a look at it!"
   ]
  },
  {
   "cell_type": "markdown",
   "metadata": {
    "cell_id": "e4dad6381efc41bb998cc929042fdf6d",
    "deepnote_cell_type": "markdown"
   },
   "source": [
    "For this simple system, you see that the context only contains the current time, as well as the two states we defined for our system."
   ]
  },
  {
   "cell_type": "code",
   "execution_count": 16,
   "metadata": {
    "cell_id": "f5ec15bf50c64997b2a31d543ee4d50c",
    "deepnote_cell_type": "code",
    "execution_context_id": "e378a144-d93b-498b-8d5b-dea297a7d550",
    "execution_millis": 1,
    "execution_start": 1756174686326,
    "source_hash": "83949696"
   },
   "outputs": [
    {
     "name": "stdout",
     "output_type": "stream",
     "text": [
      "::_ Context\n",
      "------------\n",
      "Time: 0.1\n",
      "States:\n",
      "  2 continuous states\n",
      "    0.1 0.1\n",
      "\n",
      "\n"
     ]
    }
   ],
   "source": [
    "# TODO: Set the values for time and state to some reasonable values\n",
    "time = 0.1\n",
    "theta = 0.1\n",
    "theta_dot = 0.1\n",
    "\n",
    "# TODO: Uncomment the following lines:\n",
    "pendulum = InvertedPendulum()\n",
    "pendulum_context = pendulum.CreateDefaultContext()\n",
    "pendulum_context.get_mutable_continuous_state().SetFromVector([theta, theta_dot])\n",
    "pendulum_context.SetTime(time)\n",
    "print(pendulum_context)"
   ]
  },
  {
   "cell_type": "markdown",
   "metadata": {
    "cell_id": "4135d4c05f3e4db388ae6e5abb422218",
    "deepnote_cell_type": "markdown",
    "vscode": {
     "languageId": "raw"
    }
   },
   "source": [
    "--- \n",
    "## Part 2: Connecting Systems in a Diagram\n",
    "\n",
    "In this part, you will create a complete `Diagram` that we will later use for simulation by connecting multiple Drake `System`s together:\n",
    "1. **InvertedPendulum** - your dynamical system\n",
    "2. **ConstantVectorSource** - provides constant torque input  \n",
    "3. **LogVectorOutput** - records output data over time\n",
    "\n",
    "**YOUR TASK:** Build a `Diagram` for simulation of the inverted pendulum, where the pendulum is provided with a constant input torque, and we log the outputs.\n",
    "\n",
    "**References:** In this part, we will only be referencing this tutorial (we will keep pointing you towards the relevant sections in the code):\n",
    "- [Dynamical Systems Tutorial](https://github.com/RobotLocomotion/drake/blob/master/tutorials/dynamical_systems.ipynb): section **\"Simulation\"** and **\"Combinations of Systems: Diagram and DiagramBuilder\"**"
   ]
  },
  {
   "cell_type": "code",
   "execution_count": 32,
   "metadata": {
    "cell_id": "72370840341d43b3b86718f95f62baf0",
    "deepnote_cell_type": "code",
    "execution_context_id": "e378a144-d93b-498b-8d5b-dea297a7d550",
    "execution_millis": 1,
    "execution_start": 1756174686385,
    "source_hash": "41260bcc"
   },
   "outputs": [],
   "source": [
    "# TODO: Implement the diagram builder function\n",
    "\n",
    "\n",
    "def build_pendulum_diagram(\n",
    "    input_torque: float = 0.0,\n",
    ") -> tuple[Diagram, InvertedPendulum, LogVectorOutput]:\n",
    "\n",
    "    # HINT: Look at the Dynamical Systems Tutorial, section \"Simulation\"\n",
    "    # TODO: Create a DiagramBuilder\n",
    "    builder = DiagramBuilder()\n",
    "\n",
    "    # TODO: Add your inverted pendulum system to the builder\n",
    "    pendulum_sys = builder.AddSystem (InvertedPendulum())\n",
    "    pendulum_sys.set_name(\"pendulum_system\")\n",
    "    # TODO: Add a constant torque source\n",
    "    # HINT: This is not in the tutorial, so we have provided the code for you.\n",
    "    torque_source = ConstantVectorSource(np.array([input_torque]))\n",
    "    torque_source_sys = builder.AddSystem(torque_source)\n",
    "    torque_source_sys.set_name(\"constant source system\")\n",
    "\n",
    "    # TODO: Add data logging system\n",
    "    logger_system = LogVectorOutput(pendulum_sys.get_output_port(0), builder)\n",
    "    logger_system.set_name(\"logger\")\n",
    "\n",
    "    # TODO: Connect the systems together\n",
    "    # HINT: Look at the Dynamical Systems Tutorial, section\n",
    "    #       \"Combinations of Systems: Diagram and DiagramBuilder\"\n",
    "    # HINT: The constant torque source should be connected to the pendulum's input port,\n",
    "    #       but the LogVectorOutput is already connected to the pendulum's output port.\n",
    "\n",
    "    builder.Connect(torque_source.get_output_port(0), pendulum_sys.get_input_port(0))\n",
    "    # TODO: Build and return the final diagram, system, and logger\n",
    "    Diagram = builder.Build()\n",
    "    Diagram.set_name(\"demo 1 diagram\")\n",
    "\n",
    "    return Diagram, pendulum_sys,  logger_system\n",
    "    \n",
    "\n",
    "# TODO: Uncomment the following line:\n",
    "diagram, pendulum, logger = build_pendulum_diagram(input_torque=0.1)"
   ]
  },
  {
   "cell_type": "markdown",
   "metadata": {
    "cell_id": "9070214e12e74e508c70d62ed14c8d7e",
    "deepnote_cell_type": "markdown",
    "vscode": {
     "languageId": "raw"
    }
   },
   "source": [
    "**Next, we will visualize the block diagram.**\n",
    "\n",
    "Drake can automatically generate graphical representations of your block diagrams, which can be very helpful for understanding the system connections and debug wiring issues.\n",
    "\n",
    "Run the code below to visualize your diagram:"
   ]
  },
  {
   "cell_type": "code",
   "execution_count": 33,
   "metadata": {
    "cell_id": "37321c998d814e84852a45ae42d18de7",
    "deepnote_cell_type": "code",
    "execution_context_id": "e378a144-d93b-498b-8d5b-dea297a7d550",
    "execution_millis": 363,
    "execution_start": 1756174686435,
    "source_hash": "9935e892"
   },
   "outputs": [
    {
     "data": {
      "image/svg+xml": [
       "<svg xmlns=\"http://www.w3.org/2000/svg\" xmlns:xlink=\"http://www.w3.org/1999/xlink\" width=\"749pt\" height=\"164pt\" viewBox=\"0.00 0.00 749.00 164.00\">\n",
       "<g id=\"graph0\" class=\"graph\" transform=\"scale(1 1) rotate(0) translate(4 160)\">\n",
       "<title>_75</title>\n",
       "<polygon fill=\"white\" stroke=\"transparent\" points=\"-4,4 -4,-160 745,-160 745,4 -4,4\"/>\n",
       "<g id=\"clust1\" class=\"cluster\">\n",
       "<title>cluster75diagram</title>\n",
       "<polygon fill=\"none\" stroke=\"black\" points=\"8,-8 8,-148 733,-148 733,-8 8,-8\"/>\n",
       "<text text-anchor=\"start\" x=\"336.5\" y=\"-129.8\" font-family=\"Times,serif\" font-weight=\"bold\" font-size=\"14.00\">Diagram</text>\n",
       "<text text-anchor=\"start\" x=\"286.5\" y=\"-115.8\" font-family=\"Times,serif\" font-size=\"14.00\">name=demo 1 diagram</text>\n",
       "</g>\n",
       "<g id=\"clust2\" class=\"cluster\">\n",
       "<title>cluster75subsystems</title>\n",
       "<polygon fill=\"none\" stroke=\"white\" points=\"16,-16 16,-96 725,-96 725,-16 16,-16\"/>\n",
       "</g>\n",
       "<!-- s72 -->\n",
       "<g id=\"node1\" class=\"node\">\n",
       "<title>s72</title>\n",
       "<polygon fill=\"none\" stroke=\"black\" points=\"310,-49 310,-83 536,-83 536,-49 310,-49\"/>\n",
       "<text text-anchor=\"start\" x=\"313\" y=\"-69.8\" font-family=\"Times,serif\" font-weight=\"bold\" font-size=\"14.00\">__main__.InvertedPendulum</text>\n",
       "<text text-anchor=\"start\" x=\"332.5\" y=\"-55.8\" font-family=\"Times,serif\" font-size=\"14.00\">name=pendulum_system</text>\n",
       "<polygon fill=\"none\" stroke=\"black\" points=\"310,-28 310,-49 428,-49 428,-28 310,-28\"/>\n",
       "<text text-anchor=\"start\" x=\"345\" y=\"-34.8\" font-family=\"Times,serif\" font-size=\"14.00\">torque</text>\n",
       "<polygon fill=\"none\" stroke=\"black\" points=\"428,-28 428,-49 536,-49 536,-28 428,-28\"/>\n",
       "<text text-anchor=\"start\" x=\"463\" y=\"-34.8\" font-family=\"Times,serif\" font-size=\"14.00\">theta</text>\n",
       "</g>\n",
       "<!-- s74 -->\n",
       "<g id=\"node3\" class=\"node\">\n",
       "<title>s74</title>\n",
       "<polygon fill=\"none\" stroke=\"black\" points=\"588.5,-49 588.5,-83 709.5,-83 709.5,-49 588.5,-49\"/>\n",
       "<text text-anchor=\"start\" x=\"591.5\" y=\"-69.8\" font-family=\"Times,serif\" font-weight=\"bold\" font-size=\"14.00\">VectorLogSink</text>\n",
       "<text text-anchor=\"start\" x=\"600.5\" y=\"-55.8\" font-family=\"Times,serif\" font-size=\"14.00\">name=logger</text>\n",
       "<polygon fill=\"none\" stroke=\"black\" points=\"588.5,-28 588.5,-49 664.5,-49 664.5,-28 588.5,-28\"/>\n",
       "<text text-anchor=\"start\" x=\"610.5\" y=\"-34.8\" font-family=\"Times,serif\" font-size=\"14.00\">data</text>\n",
       "<polyline fill=\"none\" stroke=\"grey\" points=\"664.5,-28 709.5,-28 709.5,-49 \"/>\n",
       "</g>\n",
       "<!-- s72&#45;&gt;s74 -->\n",
       "<g id=\"edge1\" class=\"edge\">\n",
       "<title>s72:e-&gt;s74:w</title>\n",
       "<path fill=\"none\" stroke=\"black\" d=\"M537,-38C555.59,-38 562.63,-38 577.25,-38\"/>\n",
       "<polygon fill=\"black\" stroke=\"black\" points=\"577.5,-41.5 587.5,-38 577.5,-34.5 577.5,-41.5\"/>\n",
       "</g>\n",
       "<!-- s73 -->\n",
       "<g id=\"node2\" class=\"node\">\n",
       "<title>s73</title>\n",
       "<polygon fill=\"none\" stroke=\"black\" points=\"32,-49 32,-83 258,-83 258,-49 32,-49\"/>\n",
       "<text text-anchor=\"start\" x=\"56.5\" y=\"-69.8\" font-family=\"Times,serif\" font-weight=\"bold\" font-size=\"14.00\">ConstantVectorSource</text>\n",
       "<text text-anchor=\"start\" x=\"35\" y=\"-55.8\" font-family=\"Times,serif\" font-size=\"14.00\">name=constant source system</text>\n",
       "<polyline fill=\"none\" stroke=\"grey\" points=\"32,-49 32,-28 136,-28 \"/>\n",
       "<polygon fill=\"none\" stroke=\"black\" points=\"136,-28 136,-49 258,-49 258,-28 136,-28\"/>\n",
       "<text text-anchor=\"start\" x=\"188\" y=\"-34.8\" font-family=\"Times,serif\" font-size=\"14.00\">y0</text>\n",
       "</g>\n",
       "<!-- s73&#45;&gt;s72 -->\n",
       "<g id=\"edge2\" class=\"edge\">\n",
       "<title>s73:e-&gt;s72:w</title>\n",
       "<path fill=\"none\" stroke=\"black\" d=\"M259,-38C277.4,-38 284.38,-38 298.85,-38\"/>\n",
       "<polygon fill=\"black\" stroke=\"black\" points=\"299,-41.5 309,-38 299,-34.5 299,-41.5\"/>\n",
       "</g>\n",
       "</g>\n",
       "</svg>"
      ],
      "text/plain": [
       "<IPython.core.display.SVG object>"
      ]
     },
     "metadata": {},
     "output_type": "display_data"
    }
   ],
   "source": [
    "diagram, pendulum, logger = build_pendulum_diagram(input_torque=0.1)\n",
    "diagram, pendulum, logger = build_pendulum_diagram(input_torque=0.1)\n",
    "plot_system_graphviz(diagram)"
   ]
  },
  {
   "cell_type": "markdown",
   "metadata": {
    "cell_id": "34b5815ad4a448dfa1d8f8438352e14e",
    "deepnote_cell_type": "markdown"
   },
   "source": [
    "After visualizing, make sure to have a look at the diagram. Are the connections and the number of ports as you would expect?\n",
    "\n",
    "Let us also have a look at the Diagram context (notice how it includes the pendulum context from earlier!):"
   ]
  },
  {
   "cell_type": "code",
   "execution_count": 34,
   "metadata": {
    "cell_id": "e9f9ad4b22484e1abc7ef0ade9abc24a",
    "deepnote_cell_type": "code",
    "execution_context_id": "e378a144-d93b-498b-8d5b-dea297a7d550",
    "execution_millis": 1,
    "execution_start": 1756174686845,
    "source_hash": "8998869b"
   },
   "outputs": [
    {
     "name": "stdout",
     "output_type": "stream",
     "text": [
      "::demo 1 diagram Context (of a Diagram)\n",
      "----------------------------------------\n",
      "2 total continuous states\n",
      "1 total numeric parameters in 1 groups\n",
      "\n",
      "::demo 1 diagram::pendulum_system Context\n",
      "------------------------------------------\n",
      "Time: 0\n",
      "States:\n",
      "  2 continuous states\n",
      "    0 0\n",
      "\n",
      "\n",
      "::demo 1 diagram::constant source system Context\n",
      "-------------------------------------------------\n",
      "Time: 0\n",
      "Parameters:\n",
      "  1 numeric parameter groups with\n",
      "     1 parameters\n",
      "       0.1\n",
      "\n"
     ]
    }
   ],
   "source": [
    "# TODO: Uncomment the following line:\n",
    "diagram, pendulum, logger = build_pendulum_diagram(input_torque=0.1)\n",
    "\n",
    "# TODO: Create a context for the diagram\n",
    "diagram_context = diagram.CreateDefaultContext()\n",
    "# TODO: Print the context for the diagram\n",
    "print(diagram_context)"
   ]
  },
  {
   "cell_type": "markdown",
   "metadata": {
    "cell_id": "25bc25d8e2af43dea74a87c2d8f2c307",
    "deepnote_cell_type": "markdown"
   },
   "source": [
    "**TIP:** This is not in the tutorial, but will be **very** useful soon in the class and for your project: \n",
    "\n",
    "If you ever want to get the context of a specific system from the entire diagram context, use the method:\n",
    "\n",
    "`system.GetMyContextFromRoot(diagram_context)`.\n",
    "\n",
    "Try it below for the inverted pendulum, and notice how we get back the simple pendulum context we printed earlier!\n"
   ]
  },
  {
   "cell_type": "code",
   "execution_count": 35,
   "metadata": {
    "cell_id": "74be123e8e474d559283a9312ff940cb",
    "deepnote_cell_type": "code",
    "execution_context_id": "e378a144-d93b-498b-8d5b-dea297a7d550",
    "execution_millis": 1,
    "execution_start": 1756174686895,
    "source_hash": "d01ecd8e"
   },
   "outputs": [
    {
     "name": "stdout",
     "output_type": "stream",
     "text": [
      "::demo 1 diagram::pendulum_system Context\n",
      "------------------------------------------\n",
      "Time: 0\n",
      "States:\n",
      "  2 continuous states\n",
      "    0 0\n",
      "\n",
      "\n"
     ]
    }
   ],
   "source": [
    "# TODO: Get the context of the pendulum from the diagram context\n",
    "pendulum_default_context =  pendulum.GetMyContextFromRoot(diagram_context)\n",
    "# TODO: Print the pendulum context\n",
    "print(pendulum_default_context)"
   ]
  },
  {
   "cell_type": "markdown",
   "metadata": {
    "cell_id": "7066f7727d564cf5bdb66b37a92ea800",
    "deepnote_cell_type": "markdown",
    "vscode": {
     "languageId": "raw"
    }
   },
   "source": [
    "## Part 3: Simulation\n",
    "In this part, we will finally put everything together and run the full simulation of our pendulum.\n",
    "\n",
    "**YOUR TASK:** Implement the full simulation for your inverted pendulum system.\n",
    "\n",
    "**References:** In this part, we will only be referencing this tutorial (we will keep pointing you towards the relevant sections in the code):\n",
    "- [Dynamical Systems Tutorial](https://github.com/RobotLocomotion/drake/blob/master/tutorials/dynamical_systems.ipynb): section **\"Simulation\"**"
   ]
  },
  {
   "cell_type": "code",
   "execution_count": 36,
   "metadata": {
    "cell_id": "1f28b79f50c14a6ca908f49e39b584c4",
    "deepnote_cell_type": "code",
    "execution_context_id": "e378a144-d93b-498b-8d5b-dea297a7d550",
    "execution_millis": 0,
    "execution_start": 1756174686945,
    "source_hash": "aedc5678"
   },
   "outputs": [],
   "source": [
    "# TODO: Implement the simulation function\n",
    "\n",
    "\n",
    "def simulate_pendulum(\n",
    "    initial_state: np.ndarray, simulation_time: float = 5.0, torque: float = 0.0\n",
    ") -> tuple[np.ndarray, np.ndarray]:\n",
    "    # TODO: Build your diagram using the function you implemented\n",
    "    diagram, pendulum, logger = build_pendulum_diagram(input_torque=torque)\n",
    "\n",
    "    # HINT: Look at the Dynamical Systems Tutorial, section \"Simulation\"\n",
    "    # TODO: Create a context for the diagram\n",
    "    diagram_context = diagram.CreateDefaultContext()\n",
    "\n",
    "    # TODO: Create a simulator for the diagram with the context\n",
    "    simulator = Simulator(diagram, diagram_context)\n",
    "\n",
    "    # TODO: Set initial conditions for the pendulum\n",
    "    pendulum_context = pendulum.GetMyMutableContextFromRoot(diagram_context)\n",
    "    pendulum_init_state = pendulum_context.get_mutable_continuous_state_vector()\n",
    "    pendulum_init_state.SetFromVector(initial_state)\n",
    "     \n",
    "\n",
    "    # TODO: Run the simulation to the specified time\n",
    "    simulator.Initialize()\n",
    "    simulator.AdvanceTo(simulation_time)\n",
    "    # TODO: Extract the logged data from the logger\n",
    "    log = logger.FindLog(diagram_context)\n",
    "    # TODO: Return the time and state data from the log\n",
    "    time_data = log.sample_times()\n",
    "    theta_data = log.data()\n",
    "    \n",
    "\n",
    "    return time_data, theta_data\n",
    " "
   ]
  },
  {
   "cell_type": "markdown",
   "metadata": {
    "cell_id": "404ad186a3c445269bfcc74029afa4ab",
    "deepnote_cell_type": "markdown"
   },
   "source": [
    "When you are done, let us run the code below to test the implementation. We will check that the pendulum swings past the downright equilibrium point, and also do some visualization so you can see what is happening!"
   ]
  },
  {
   "cell_type": "code",
   "execution_count": 37,
   "metadata": {
    "cell_id": "9123efffa0484aa3aca302636b2e79fa",
    "deepnote_cell_type": "code",
    "execution_context_id": "e378a144-d93b-498b-8d5b-dea297a7d550",
    "execution_millis": 235,
    "execution_start": 1756174687005,
    "source_hash": "59023190"
   },
   "outputs": [
    {
     "name": "stdout",
     "output_type": "stream",
     "text": [
      "Simulation complete! Recorded 407 timesteps\n",
      "Initial angle: 0.5000 rad (28.6°)\n",
      "Final angle: 0.4177 rad (23.9°)\n",
      "✅ Physics check PASSED - pendulum oscillated as expected\n",
      "Let us plot the angle over time (notice how there is no friction, hence the pendulum swings indefinitely!):\n"
     ]
    },
    {
     "data": {
      "image/png": "[encoded data removed]",
      "text/plain": [
       "<Figure size 1000x400 with 2 Axes>"
      ]
     },
     "metadata": {},
     "output_type": "display_data"
    }
   ],
   "source": [
    "# Test your implementation (you do not need to modify this code)\n",
    "initial_state = [0.5, 0.0]  # small angle, zero velocity\n",
    "times, outputs = simulate_pendulum(initial_state, simulation_time=10.0, torque=0.0)\n",
    "\n",
    "print(f\"Simulation complete! Recorded {len(times)} timesteps\")\n",
    "print(f\"Initial angle: {outputs[0, 0]:.4f} rad ({np.degrees(outputs[0, 0]):.1f}°)\")\n",
    "print(f\"Final angle: {outputs[0, -1]:.4f} rad ({np.degrees(outputs[0, -1]):.1f}°)\")\n",
    "\n",
    "# Check if pendulum swung past the equilibrium point\n",
    "min_angle = np.min(np.abs(outputs[0, :]))\n",
    "if np.isclose(min_angle, 0.0, atol=1e-3):\n",
    "    print(\"✅ Physics check PASSED - pendulum oscillated as expected\")\n",
    "else:\n",
    "    print(\"❌ Physics check FAILED - pendulum didn't swing properly\")\n",
    "\n",
    "print(\n",
    "    \"Let us plot the angle over time (notice how there is no friction, hence the pendulum swings indefinitely!):\"\n",
    ")\n",
    "# Plot the angle over time\n",
    "plt.figure(figsize=(10, 4))\n",
    "plt.plot(times, outputs[0, :], \"b-\", linewidth=2, label=\"θ (angle)\")\n",
    "plt.xlabel(\"Time (s)\")\n",
    "plt.ylabel(\"Angle (rad)\")\n",
    "plt.title(\"Inverted Pendulum Angle vs Time\")\n",
    "plt.grid(True, alpha=0.3)\n",
    "plt.legend()\n",
    "\n",
    "# Add degree labels on right y-axis\n",
    "ax2 = plt.gca().twinx()\n",
    "ax2.set_ylabel(\"Angle (degrees)\")\n",
    "ax2.set_ylim(np.degrees(plt.gca().get_ylim()[0]), np.degrees(plt.gca().get_ylim()[1]))\n",
    "\n",
    "plt.tight_layout()\n",
    "plt.show()"
   ]
  },
  {
   "cell_type": "markdown",
   "metadata": {
    "cell_id": "7e59718f9675442cbdc2a79f23c84187",
    "deepnote_cell_type": "markdown",
    "vscode": {
     "languageId": "raw"
    }
   },
   "source": [
    "---\n",
    "\n",
    "# VERIFICATION IN GRADESCOPE \n",
    "\n",
    "**Prerequisites:** You must complete ALL the TODOs above before these verification exercises will work!\n",
    "\n",
    "**Instructions:** Implement the exercises below. Copy the exact numerical values (to 4 decimal places) for your verification keys, which you can copy/paste to Gradescope.\n",
    "\n"
   ]
  },
  {
   "cell_type": "markdown",
   "metadata": {
    "cell_id": "d210cbf23bff47a9a66d4f4a94ba9141",
    "deepnote_cell_type": "markdown",
    "vscode": {
     "languageId": "raw"
    }
   },
   "source": [
    "## Verification 1: Basic Simulation\n",
    "\n",
    "**Task:** Simulate the inverted pendulum with:\n",
    "- Initial state: θ = 0.15 rad, θ̇ = 0.0 rad/s  \n",
    "- No applied torque (torque = 0.0)\n",
    "- Simulation time: 2.5 seconds\n",
    "\n",
    "**Question:** What is the angle θ at t = 2.5 seconds? (Report to 4 decimal places)\n"
   ]
  },
  {
   "cell_type": "code",
   "execution_count": 48,
   "metadata": {
    "cell_id": "b5082819e51f4ec39ee780d2fbf0cb60",
    "deepnote_cell_type": "code",
    "execution_context_id": "e378a144-d93b-498b-8d5b-dea297a7d550",
    "execution_millis": 1,
    "execution_start": 1756174687295,
    "source_hash": "b4ec98bc"
   },
   "outputs": [
    {
     "name": "stdout",
     "output_type": "stream",
     "text": [
      "0.0052\n"
     ]
    }
   ],
   "source": [
    "# TODO: Implement the simulation exercise\n",
    "\n",
    "#define the constant value \n",
    "initial_state = [0.15, 0.0]\n",
    "simulation_time = 2.5\n",
    "torque = 0\n",
    "#call the simuation \n",
    "time_data, theta_data = simulate_pendulum(initial_state, simulation_time, torque)\n",
    "\n",
    "angle_theta = theta_data[0,-1]\n",
    "print(f\"{angle_theta:.4f}\")"
   ]
  },
  {
   "cell_type": "markdown",
   "metadata": {
    "cell_id": "f15fe2c637d54bf7a4e0d0f497a4b0d6",
    "deepnote_cell_type": "markdown",
    "vscode": {
     "languageId": "raw"
    }
   },
   "source": [
    "## Verification 2: With Applied Torque\n",
    "\n",
    "**Task:** Simulate the pendulum with:\n",
    "- Initial state: θ = -0.1 rad, θ̇ = 0.2 rad/s\n",
    "- Constant applied torque: 0.5 N⋅m\n",
    "- Simulation time: 1.8 seconds\n",
    "\n",
    "**Question:** What is the angle θ at t = 1.8 seconds? (Report to 4 decimal places)\n"
   ]
  },
  {
   "cell_type": "code",
   "execution_count": 47,
   "metadata": {
    "cell_id": "3f5b77311f8d4078b5d47d6d647dc273",
    "deepnote_cell_type": "code",
    "execution_context_id": "e378a144-d93b-498b-8d5b-dea297a7d550",
    "execution_millis": 0,
    "execution_start": 1756174687345,
    "source_hash": "e8f4d71f"
   },
   "outputs": [
    {
     "name": "stdout",
     "output_type": "stream",
     "text": [
      "-0.1074\n"
     ]
    }
   ],
   "source": [
    "# TODO: Implement the simulation exercise\n",
    "#define the constant value \n",
    "initial_state = [-0.1, 0.2]\n",
    "simulation_time = 1.8\n",
    "torque = 0.5\n",
    "#call the simuation \n",
    "time_data, theta_data = simulate_pendulum(initial_state, simulation_time, torque)\n",
    "\n",
    "angle_theta = theta_data[0,-1]\n",
    "print(f\"{angle_theta:.4f}\")"
   ]
  },
  {
   "cell_type": "markdown",
   "metadata": {
    "cell_id": "e3967baa221348f1966a023353061bbc",
    "deepnote_cell_type": "markdown",
    "vscode": {
     "languageId": "raw"
    }
   },
   "source": [
    "---\n",
    "\n",
    "# Congratulations!\n",
    "\n",
    "You've successfully completed **Drake Systems Fundamentals**! You've learned:\n",
    "\n",
    "1. **LeafSystem** is the base class for most custom Drake systems\n",
    "3. **Context** holds the state, time, and parameters for simulation\n",
    "2. **DiagramBuilder** connects systems into larger compositions (`Diagram`s)\n",
    "4. **Drake documentation** and **Drake tutorials** are your best friends - use them!\n",
    "\n",
    "**Next:** In Notebook 2, you'll work with real robots using `MultibodyPlant` and create your own custom assets!\n"
   ]
  },
  {
   "cell_type": "markdown",
   "metadata": {},
   "source": []
  }
 ],
 "metadata": {
  "deepnote_notebook_id": "82e270c2fffd46048950c7ecd1f61a9f",
  "kernelspec": {
   "display_name": "MIT_Drake",
   "language": "python",
   "name": "python3"
  },
  "language_info": {
   "codemirror_mode": {
    "name": "ipython",
    "version": 3
   },
   "file_extension": ".py",
   "mimetype": "text/x-python",
   "name": "python",
   "nbconvert_exporter": "python",
   "pygments_lexer": "ipython3",
   "version": "3.10.18"
  }
 },
 "nbformat": "4",
 "nbformat_minor": "0"
}
